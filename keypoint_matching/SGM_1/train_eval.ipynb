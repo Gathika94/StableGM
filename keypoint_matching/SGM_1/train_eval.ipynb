{
 "cells": [
  {
   "cell_type": "code",
   "execution_count": null,
   "metadata": {
    "tags": []
   },
   "outputs": [],
   "source": [
    "import torch.optim as optim\n",
    "import time\n",
    "import xlwt\n",
    "from datetime import datetime\n",
    "from pathlib import Path\n",
    "from tensorboardX import SummaryWriter"
   ]
  },
  {
   "cell_type": "code",
   "execution_count": null,
   "metadata": {},
   "outputs": [],
   "source": [
    "from src.dataset.data_loader import GMDataset, get_dataloader\n",
    "from stableMatching.loss_func import *\n",
    "from src.evaluation_metric import matching_accuracy\n",
    "from src.parallel import DataParallel\n",
    "from src.utils.model_sl import load_model, save_model\n",
    "from eval import eval_model\n",
    "from src.utils.data_to_cuda import data_to_cuda\n",
    "from stableMatching.sm_solvers.stable_marriage import stable_marriage\n",
    "import ipdb;\n",
    "from IPython.core.debugger import Tracer"
   ]
  },
  {
   "cell_type": "code",
   "execution_count": null,
   "metadata": {},
   "outputs": [],
   "source": [
    "from src.utils.config import cfg\n",
    "from pygmtools.benchmark import Benchmark"
   ]
  },
  {
   "cell_type": "code",
   "execution_count": null,
   "metadata": {
    "tags": []
   },
   "outputs": [],
   "source": [
    "def train_eval_model(model,\n",
    "                     criterion,\n",
    "                     optimizer,\n",
    "                     image_dataset,\n",
    "                     dataloader,\n",
    "                     tfboard_writer,\n",
    "                     benchmark,\n",
    "                     num_epochs=25,\n",
    "                     start_epoch=0,\n",
    "                     xls_wb=None):\n",
    "    print('training...')\n",
    "    since = time.time()\n",
    "    dataset_size = len(dataloader['train'].dataset)\n",
    "    beta = 0.1\n",
    "    device = next(model.parameters()).device\n",
    "    print('model on device: {}'.format(device))\n",
    "    checkpoint_path = Path(cfg.OUTPUT_PATH) / 'params'\n",
    "    if not checkpoint_path.exists():\n",
    "        checkpoint_path.mkdir(parents=True)\n",
    "    model_path, optim_path = '', ''\n",
    "    if start_epoch != 0:\n",
    "        model_path = str(checkpoint_path / 'params_{:04}.pt'.format(start_epoch))\n",
    "        optim_path = str(checkpoint_path / 'optim_{:04}.pt'.format(start_epoch))\n",
    "    if len(cfg.PRETRAINED_PATH) > 0:\n",
    "        model_path = cfg.PRETRAINED_PATH\n",
    "    if len(model_path) > 0:\n",
    "        print('Loading model parameters from {}'.format(model_path))\n",
    "        load_model(model, model_path, strict=False)\n",
    "    if len(optim_path) > 0:\n",
    "        print('Loading optimizer state from {}'.format(optim_path))\n",
    "        optimizer.load_state_dict(torch.load(optim_path))\n",
    "    scheduler = optim.lr_scheduler.MultiStepLR(optimizer,\n",
    "                                               milestones=cfg.TRAIN.LR_STEP,\n",
    "                                               gamma=cfg.TRAIN.LR_DECAY,\n",
    "                                               last_epoch=cfg.TRAIN.START_EPOCH - 1)\n",
    "    for epoch in range(start_epoch, num_epochs):\n",
    "        \n",
    "        torch.manual_seed(cfg.RANDOM_SEED + epoch + 1)\n",
    "        dataloader['train'] = get_dataloader(image_dataset['train'], shuffle=True, fix_seed=False)\n",
    "        print('Epoch {}/{}'.format(epoch, num_epochs - 1))\n",
    "        print('-' * 10)\n",
    "        model.train()  # Set model to training mode\n",
    "        print('lr = ' + ', '.join(['{:.2e}'.format(x['lr']) for x in optimizer.param_groups]))\n",
    "        epoch_loss = 0.0\n",
    "        running_loss = 0.0\n",
    "        running_since = time.time()\n",
    "        iter_num = 0\n",
    "\n",
    "        \n",
    "        for inputs in dataloader['train']:\n",
    "            if iter_num >= cfg.TRAIN.EPOCH_ITERS:\n",
    "                break\n",
    "            if model.module.device != torch.device('cpu'):\n",
    "                inputs = data_to_cuda(inputs)\n",
    "            iter_num = iter_num + 1\n",
    "\n",
    "            \n",
    "            optimizer.zero_grad()\n",
    "            with torch.set_grad_enabled(True):\n",
    "                \n",
    "                outputs = model(inputs)\n",
    "                if cfg.PROBLEM.TYPE == '2GM':\n",
    "                    assert 'ds_mat' in outputs\n",
    "                    assert 'perm_mat' in outputs\n",
    "                    assert 'gt_perm_mat' in outputs\n",
    "                   \n",
    "                    if cfg.TRAIN.LOSS_FUNC == 'cml':\n",
    "                        loss = criterion(outputs['ds_mat'], outputs['gt_perm_mat'],outputs['perm_mat'], *outputs['ns'],beta) \n",
    "                    else:\n",
    "                        raise ValueError(\n",
    "                            'Unsupported loss function {} for problem type {}'.format(cfg.TRAIN.LOSS_FUNC,\n",
    "                                                                                      cfg.PROBLEM.TYPE))\n",
    "                \n",
    "                    acc = matching_accuracy(outputs['perm_mat'], outputs['gt_perm_mat'], outputs['ns'][0])\n",
    "                else:\n",
    "                    raise ValueError('Unknown problem type {}'.format(cfg.PROBLEM.TYPE))\n",
    "                \n",
    "                if cfg.FP16:\n",
    "                    with amp.scale_loss(loss, optimizer) as scaled_loss:\n",
    "                        scaled_loss.backward()\n",
    "                else:\n",
    "                    loss.backward()\n",
    "                optimizer.step()\n",
    "                batch_num = inputs['batch_size']\n",
    "                \n",
    "                loss_dict = dict()\n",
    "                loss_dict['loss'] = loss.item()\n",
    "                tfboard_writer.add_scalars('loss', loss_dict, epoch * cfg.TRAIN.EPOCH_ITERS + iter_num)\n",
    "                accdict = dict()\n",
    "                accdict['matching accuracy'] = torch.mean(acc)\n",
    "                tfboard_writer.add_scalars(\n",
    "                    'training accuracy',\n",
    "                    accdict,\n",
    "                    epoch * cfg.TRAIN.EPOCH_ITERS + iter_num\n",
    "                )\n",
    "                \n",
    "                running_loss += loss.item() * batch_num\n",
    "                epoch_loss += loss.item() * batch_num\n",
    "                if iter_num % cfg.STATISTIC_STEP == 0:\n",
    "                    running_speed = cfg.STATISTIC_STEP * batch_num / (time.time() - running_since)\n",
    "                    print('Epoch {:<4} Iteration {:<4} {:>4.2f}sample/s Loss={:<8.4f}'\n",
    "                          .format(epoch, iter_num, running_speed, running_loss / cfg.STATISTIC_STEP / batch_num))\n",
    "                    tfboard_writer.add_scalars(\n",
    "                        'speed',\n",
    "                        {'speed': running_speed},\n",
    "                        epoch * cfg.TRAIN.EPOCH_ITERS + iter_num\n",
    "                    )\n",
    "                    tfboard_writer.add_scalars(\n",
    "                        'learning rate',\n",
    "                        {'lr_{}'.format(i): x['lr'] for i, x in enumerate(optimizer.param_groups)},\n",
    "                        epoch * cfg.TRAIN.EPOCH_ITERS + iter_num\n",
    "                    )\n",
    "                    running_loss = 0.0\n",
    "                    running_since = time.time()\n",
    "        epoch_loss = epoch_loss / cfg.TRAIN.EPOCH_ITERS / batch_num\n",
    "        save_model(model, str(checkpoint_path / 'params_{:04}.pt'.format(epoch + 1)))\n",
    "        torch.save(optimizer.state_dict(), str(checkpoint_path / 'optim_{:04}.pt'.format(epoch + 1)))\n",
    "        print('Epoch {:<4} Loss: {:.4f}'.format(epoch, epoch_loss))\n",
    "        print()\n",
    "\n",
    "        \n",
    "        if(epoch>=0):\n",
    "            if dataloader['test'].dataset.cls not in ['none', 'all', None]:\n",
    "                clss = [dataloader['test'].dataset.cls]\n",
    "            else:\n",
    "                clss = dataloader['test'].dataset.bm.classes\n",
    "                l_e = (epoch == (num_epochs - 1))\n",
    "                accs = eval_model(model, clss, benchmark['test'], l_e,\n",
    "                                  xls_sheet=xls_wb.add_sheet('epoch{}'.format(epoch + 1)))\n",
    "                acc_dict = {\"{}\".format(cls): single_acc for cls, single_acc in zip(dataloader['test'].dataset.classes, accs)}\n",
    "                acc_dict['average'] = torch.mean(accs)\n",
    "                tfboard_writer.add_scalars(\n",
    "                    'Eval acc',\n",
    "                    acc_dict,\n",
    "                    (epoch + 1) * cfg.TRAIN.EPOCH_ITERS\n",
    "                )\n",
    "        wb.save(wb.__save_path)\n",
    "        scheduler.step()\n",
    "    time_elapsed = time.time() - since\n",
    "    print('Training complete in {:.0f}h {:.0f}m {:.0f}s'\n",
    "          .format(time_elapsed // 3600, (time_elapsed // 60) % 60, time_elapsed % 60))\n",
    "    return model"
   ]
  },
  {
   "cell_type": "code",
   "execution_count": null,
   "metadata": {},
   "outputs": [],
   "source": [
    "from src.utils.dup_stdout_manager import DupStdoutFileManager\n",
    "from src.utils.parse_args import parse_args\n",
    "from src.utils.print_easydict import print_easydict   \n",
    "import importlib"
   ]
  },
  {
   "cell_type": "code",
   "execution_count": null,
   "metadata": {},
   "outputs": [],
   "source": [
    "import argparse\n",
    "from src.utils.config import cfg, cfg_from_file, cfg_from_list, get_output_dir\n",
    "from pathlib import Path"
   ]
  },
  {
   "cell_type": "code",
   "execution_count": null,
   "metadata": {},
   "outputs": [],
   "source": [
    "f='experiments/Stable_GM1_spair.yaml'\n",
    "cfg_from_file(f)\n"
   ]
  },
  {
   "cell_type": "code",
   "execution_count": null,
   "metadata": {},
   "outputs": [],
   "source": [
    "if len(cfg.MODEL_NAME) != 0 and len(cfg.DATASET_NAME) != 0:\n",
    "        outp_path = get_output_dir(cfg.MODEL_NAME, cfg.DATASET_NAME)\n",
    "        print(cfg.MODEL_NAME)\n",
    "        cfg_from_list(['OUTPUT_PATH', outp_path])"
   ]
  },
  {
   "cell_type": "code",
   "execution_count": null,
   "metadata": {},
   "outputs": [],
   "source": [
    "if not Path(cfg.OUTPUT_PATH).exists():\n",
    "        Path(cfg.OUTPUT_PATH).mkdir(parents=True)"
   ]
  },
  {
   "cell_type": "code",
   "execution_count": null,
   "metadata": {},
   "outputs": [],
   "source": [
    "mod = importlib.import_module(cfg.MODULE)\n",
    "Net = mod.Net"
   ]
  },
  {
   "cell_type": "code",
   "execution_count": null,
   "metadata": {},
   "outputs": [],
   "source": [
    "torch.manual_seed(cfg.RANDOM_SEED)"
   ]
  },
  {
   "cell_type": "code",
   "execution_count": null,
   "metadata": {},
   "outputs": [],
   "source": [
    "dataset_len = {'train': cfg.TRAIN.EPOCH_ITERS * cfg.BATCH_SIZE, 'test': cfg.EVAL.SAMPLES}\n",
    "ds_dict = cfg[cfg.DATASET_FULL_NAME] if ('DATASET_FULL_NAME' in cfg) and (cfg.DATASET_FULL_NAME in cfg) else {}\n",
    "benchmark = {\n",
    "        x: Benchmark(name=cfg.DATASET_FULL_NAME,\n",
    "                     sets=x,\n",
    "                     problem=cfg.PROBLEM.TYPE,\n",
    "                     obj_resize=cfg.PROBLEM.RESCALE,\n",
    "                     filter=cfg.PROBLEM.FILTER,\n",
    "                     **ds_dict)\n",
    "        for x in ('train', 'test')}\n",
    "\n",
    "image_dataset = {\n",
    "        x: GMDataset(cfg.DATASET_FULL_NAME,\n",
    "                     benchmark[x],\n",
    "                     dataset_len[x],\n",
    "                     cfg.PROBLEM.TRAIN_ALL_GRAPHS if x == 'train' else cfg.PROBLEM.TEST_ALL_GRAPHS,\n",
    "                     cfg.TRAIN.CLASS if x == 'train' else cfg.EVAL.CLASS,\n",
    "                     cfg.PROBLEM.TYPE)\n",
    "        for x in ('train', 'test')}\n",
    "dataloader = {x: get_dataloader(image_dataset[x], shuffle=True, fix_seed=(x == 'test'))\n",
    "                  for x in ('train', 'test')}\n"
   ]
  },
  {
   "cell_type": "code",
   "execution_count": null,
   "metadata": {},
   "outputs": [],
   "source": [
    "device = torch.device(\"cuda:0\" if torch.cuda.is_available() else \"cpu\")\n",
    "model = Net()\n",
    "model = model.to(device)"
   ]
  },
  {
   "cell_type": "code",
   "execution_count": null,
   "metadata": {},
   "outputs": [],
   "source": [
    "\n",
    "if cfg.TRAIN.LOSS_FUNC.lower() == 'cml':\n",
    "        criterion = ContrastiveLossWithAttention()\n",
    "else:\n",
    "        raise ValueError('Unknown loss function {}'.format(cfg.TRAIN.LOSS_FUNC))"
   ]
  },
  {
   "cell_type": "code",
   "execution_count": null,
   "metadata": {},
   "outputs": [],
   "source": [
    "if cfg.TRAIN.SEPARATE_BACKBONE_LR:\n",
    "        backbone_ids = [id(item) for item in model.backbone_params]\n",
    "        other_params = [param for param in model.parameters() if id(param) not in backbone_ids]\n",
    "\n",
    "        model_params = [\n",
    "            {'params': other_params},\n",
    "            {'params': model.backbone_params, 'lr': cfg.TRAIN.BACKBONE_LR}\n",
    "        ]\n",
    "else:\n",
    "    model_params = model.parameters()\n"
   ]
  },
  {
   "cell_type": "code",
   "execution_count": null,
   "metadata": {},
   "outputs": [],
   "source": [
    "if cfg.TRAIN.OPTIMIZER.lower() == 'adam':\n",
    "        optimizer = optim.Adam(model_params, lr=cfg.TRAIN.LR)\n",
    "else:\n",
    "        raise ValueError('Unknown optimizer {}'.format(cfg.TRAIN.OPTIMIZER))"
   ]
  },
  {
   "cell_type": "code",
   "execution_count": null,
   "metadata": {},
   "outputs": [],
   "source": [
    "if cfg.FP16:\n",
    "        try:\n",
    "            from apex import amp\n",
    "        except ImportError:\n",
    "            raise ImportError(\"Please install apex from https://www.github.com/nvidia/apex to enable FP16.\")\n",
    "        model, optimizer = amp.initialize(model, optimizer)"
   ]
  },
  {
   "cell_type": "code",
   "execution_count": null,
   "metadata": {},
   "outputs": [],
   "source": [
    "model = DataParallel(model, device_ids=cfg.GPUS)"
   ]
  },
  {
   "cell_type": "code",
   "execution_count": null,
   "metadata": {},
   "outputs": [],
   "source": [
    "now_time = datetime.now().strftime('%Y-%m-%d-%H-%M-%S')\n",
    "tfboardwriter = SummaryWriter(logdir=str(Path(cfg.OUTPUT_PATH) / 'tensorboard' / 'training_{}'.format(now_time)))"
   ]
  },
  {
   "cell_type": "code",
   "execution_count": null,
   "metadata": {},
   "outputs": [],
   "source": [
    "wb = xlwt.Workbook()\n",
    "wb.__save_path = str(Path(cfg.OUTPUT_PATH) / ('train_eval_result_' + now_time + '.xls'))"
   ]
  },
  {
   "cell_type": "code",
   "execution_count": null,
   "metadata": {},
   "outputs": [],
   "source": [
    "with DupStdoutFileManager(str(Path(cfg.OUTPUT_PATH) / ('train_log_' + now_time + '.log'))) as _:\n",
    "        print_easydict(cfg)\n",
    "        model = train_eval_model(model, criterion, optimizer, image_dataset, dataloader, tfboardwriter, benchmark,\n",
    "                                 num_epochs=cfg.TRAIN.NUM_EPOCHS,\n",
    "                                 start_epoch=cfg.TRAIN.START_EPOCH,\n",
    "                                 xls_wb=wb)"
   ]
  },
  {
   "cell_type": "code",
   "execution_count": null,
   "metadata": {},
   "outputs": [],
   "source": [
    "wb.save(wb.__save_path)"
   ]
  }
 ],
 "metadata": {
  "kernelspec": {
   "display_name": "Python 3 (ipykernel)",
   "language": "python",
   "name": "python3"
  },
  "language_info": {
   "codemirror_mode": {
    "name": "ipython",
    "version": 3
   },
   "file_extension": ".py",
   "mimetype": "text/x-python",
   "name": "python",
   "nbconvert_exporter": "python",
   "pygments_lexer": "ipython3",
   "version": "3.7.11"
  }
 },
 "nbformat": 4,
 "nbformat_minor": 4
}
